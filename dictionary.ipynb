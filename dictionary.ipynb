{
  "nbformat": 4,
  "nbformat_minor": 0,
  "metadata": {
    "colab": {
      "name": "dictionary",
      "provenance": [],
      "authorship_tag": "ABX9TyPvLIDrO9N15YGvzCDpIFOT",
      "include_colab_link": true
    },
    "kernelspec": {
      "name": "python3",
      "display_name": "Python 3"
    },
    "language_info": {
      "name": "python"
    }
  },
  "cells": [
    {
      "cell_type": "markdown",
      "metadata": {
        "id": "view-in-github",
        "colab_type": "text"
      },
      "source": [
        "<a href=\"https://colab.research.google.com/github/sreekar-1726/python-new/blob/module2/dictionary.ipynb\" target=\"_parent\"><img src=\"https://colab.research.google.com/assets/colab-badge.svg\" alt=\"Open In Colab\"/></a>"
      ]
    },
    {
      "cell_type": "code",
      "execution_count": null,
      "metadata": {
        "colab": {
          "base_uri": "https://localhost:8080/"
        },
        "id": "eh40XQJZE5Dg",
        "outputId": "e5404e5a-8a9d-4879-be08-8885058a5b81"
      },
      "outputs": [
        {
          "output_type": "stream",
          "name": "stdout",
          "text": [
            "{'sai': 'lily', 'charan': 'put', 'year': 2022}\n"
          ]
        }
      ],
      "source": [
        "#dictonaries in python\n",
        "x = {\n",
        "    \"sai\": \"lily\",\n",
        "    \"charan\": \"put\",\n",
        "    \"year\": 2022\n",
        "    }\n",
        "print(x)"
      ]
    },
    {
      "cell_type": "code",
      "source": [
        "#dictonaries in python\n",
        "x = {\n",
        "    \"sai\": \"lily\",\n",
        "    \"charan\": \"put\",\n",
        "    \"year\": 2022\n",
        "    }\n",
        "print(x[\"charan\"])"
      ],
      "metadata": {
        "colab": {
          "base_uri": "https://localhost:8080/"
        },
        "id": "S6wznaaMI8yj",
        "outputId": "d4e0fa8f-23fc-4052-ec7a-85acc4b6ec67"
      },
      "execution_count": 1,
      "outputs": [
        {
          "output_type": "stream",
          "name": "stdout",
          "text": [
            "put\n"
          ]
        }
      ]
    },
    {
      "cell_type": "code",
      "source": [
        " #len for finding the length of the dictionary\n",
        "y = {\n",
        "    \"kaushik\": \"elluru\",\n",
        "    \"gan\": \"man\",\n",
        "    \"nd\": 2022,\n",
        "    \"nd\":2020\n",
        "    }\n",
        "print(y)\n",
        "print(len(y)) "
      ],
      "metadata": {
        "colab": {
          "base_uri": "https://localhost:8080/"
        },
        "id": "AEsnGJFwJLL4",
        "outputId": "f504361e-c3ef-4b45-89e7-e54183c48ced"
      },
      "execution_count": 2,
      "outputs": [
        {
          "output_type": "stream",
          "name": "stdout",
          "text": [
            "{'kaushik': 'elluru', 'gan': 'man', 'nd': 2020}\n",
            "3\n"
          ]
        }
      ]
    },
    {
      "cell_type": "code",
      "source": [
        " #strings,int,boolean,list data types can be used\n",
        " x = {\n",
        "    \"sai\": \"lily\",            \n",
        "    \"charan\": \"put\",\n",
        "    \"year\": 2022,\n",
        "    \"colors\": [\"red\",\"green\",\"blue\"]\n",
        "    }\n",
        "print(type(x))"
      ],
      "metadata": {
        "colab": {
          "base_uri": "https://localhost:8080/"
        },
        "id": "7qOpBZz9JcGS",
        "outputId": "4d68cae8-1ec2-41d2-e1dd-e36632c460d0"
      },
      "execution_count": 3,
      "outputs": [
        {
          "output_type": "stream",
          "name": "stdout",
          "text": [
            "<class 'dict'>\n"
          ]
        }
      ]
    },
    {
      "cell_type": "code",
      "source": [
        "#to access the items in the dict\n",
        "x = {\n",
        "    \"sai\": \"lily\",\n",
        "    \"charan\": \"put\",\n",
        "    \"year\": 2022\n",
        "    }\n",
        "y=x[\"charan\"]\n",
        "print(y)\n",
        "z=x.get(\"charan\")\n",
        "print(z)"
      ],
      "metadata": {
        "colab": {
          "base_uri": "https://localhost:8080/"
        },
        "id": "x7jBZm0SJn-c",
        "outputId": "aa764f5b-203d-4f17-b563-e3b318b5a7de"
      },
      "execution_count": 4,
      "outputs": [
        {
          "output_type": "stream",
          "name": "stdout",
          "text": [
            "put\n",
            "put\n"
          ]
        }
      ]
    },
    {
      "cell_type": "code",
      "source": [
        "dict={\"sai charan\":\"lilyput\",\"saketh\":\"jennie\",\"laxman\":\"chocolate\",\"kaushik\":\"elluru alludu\"}\n",
        "x=dict.keys()\n",
        "print(x)#before changes\n",
        "dict[\"pavan\"]=\"moon\"\n",
        "print(x)#after changes"
      ],
      "metadata": {
        "colab": {
          "base_uri": "https://localhost:8080/"
        },
        "id": "x921yymoJuSk",
        "outputId": "a126bb14-a357-4ecd-a4be-eb2036afa896"
      },
      "execution_count": 5,
      "outputs": [
        {
          "output_type": "stream",
          "name": "stdout",
          "text": [
            "dict_keys(['sai charan', 'saketh', 'laxman', 'kaushik'])\n",
            "dict_keys(['sai charan', 'saketh', 'laxman', 'kaushik', 'pavan'])\n"
          ]
        }
      ]
    },
    {
      "cell_type": "code",
      "source": [
        "placements={\"name\":input(),\n",
        "            \"age\":input(),\n",
        "            \"branch\":input(),\n",
        "            \"cgpa\":input(),\n",
        "            \"mobile no.\":input(),\n",
        "            }"
      ],
      "metadata": {
        "colab": {
          "base_uri": "https://localhost:8080/"
        },
        "id": "41cdHhN2Jw49",
        "outputId": "b1e89e40-463e-4ec7-f58c-4e7fd5b217b7"
      },
      "execution_count": 9,
      "outputs": [
        {
          "name": "stdout",
          "output_type": "stream",
          "text": [
            "sreekar\n",
            "18\n",
            "cse\n",
            "9.8\n",
            "7569228146\n"
          ]
        }
      ]
    },
    {
      "cell_type": "code",
      "source": [
        "x = {\n",
        "    \"sai\": \"lily\",\n",
        "    \"charan\": \"put\",\n",
        "    \"year\": 2022\n",
        "    }\n",
        "y=x.items()\n",
        "print(y)"
      ],
      "metadata": {
        "colab": {
          "base_uri": "https://localhost:8080/"
        },
        "id": "nTwI0q3CKpeI",
        "outputId": "e4a082e2-c58e-431a-8bb8-b32753299267"
      },
      "execution_count": 10,
      "outputs": [
        {
          "output_type": "stream",
          "name": "stdout",
          "text": [
            "dict_items([('sai', 'lily'), ('charan', 'put'), ('year', 2022)])\n"
          ]
        }
      ]
    },
    {
      "cell_type": "code",
      "source": [
        "x = {\n",
        "    \"sai\": \"lily\",\n",
        "    \"charan\": \"put\",\n",
        "    \"year\": 2021\n",
        "    }\n",
        "y=x.items()\n",
        "print(y)\n",
        "x[\"charan\"]=\"baby liliput\"\n",
        "\n",
        "z=x.items()\n",
        "x[\"year\"]=2022\n",
        "print(z)"
      ],
      "metadata": {
        "colab": {
          "base_uri": "https://localhost:8080/"
        },
        "id": "mryDT3WdKxN8",
        "outputId": "5f209ce7-cfbc-4fce-a519-90ba5c54d74c"
      },
      "execution_count": 13,
      "outputs": [
        {
          "output_type": "stream",
          "name": "stdout",
          "text": [
            "dict_items([('sai', 'lily'), ('charan', 'put'), ('year', 2021)])\n",
            "dict_items([('sai', 'lily'), ('charan', 'baby liliput'), ('year', 2022)])\n"
          ]
        }
      ]
    },
    {
      "cell_type": "code",
      "source": [
        "thisdict = {\n",
        "  \"brand\": \"Ford\",\n",
        "  \"model\": \"Mustang\", #empties the dictonaries\n",
        "  \"year\": 1964\n",
        "}\n",
        "thisdict.clear()\n",
        "print(thisdict)"
      ],
      "metadata": {
        "colab": {
          "base_uri": "https://localhost:8080/"
        },
        "id": "8PeIWg29K31O",
        "outputId": "ba093bb8-63c3-4df9-d33f-10618c488e4f"
      },
      "execution_count": 12,
      "outputs": [
        {
          "output_type": "stream",
          "name": "stdout",
          "text": [
            "{}\n"
          ]
        }
      ]
    },
    {
      "cell_type": "code",
      "source": [
        "x = {\n",
        "    \"sai\": \"lily\",\n",
        "    \"charan\": \"put\",\n",
        "    \"year\": 2021\n",
        "    }\n",
        "del x[\"charan\"]\n",
        "print(x)"
      ],
      "metadata": {
        "colab": {
          "base_uri": "https://localhost:8080/"
        },
        "id": "e3l4hceYLBfR",
        "outputId": "b45f7ad1-25da-466e-991a-fd5f87e18341"
      },
      "execution_count": 15,
      "outputs": [
        {
          "output_type": "stream",
          "name": "stdout",
          "text": [
            "{'sai': 'lily', 'year': 2021}\n"
          ]
        }
      ]
    },
    {
      "cell_type": "code",
      "source": [
        "#pop removes the last item of the dictionaries\n",
        "x = {\n",
        "    \"sai\": \"lily\",\n",
        "    \"charan\": \"put\",\n",
        "    \"year\": 2021\n",
        "     }\n",
        "x.popitem()\n",
        "print(x)"
      ],
      "metadata": {
        "colab": {
          "base_uri": "https://localhost:8080/"
        },
        "id": "gyYfcp48LMVv",
        "outputId": "a346a4ce-8158-423b-bd30-2466c828e39e"
      },
      "execution_count": 16,
      "outputs": [
        {
          "output_type": "stream",
          "name": "stdout",
          "text": [
            "{'sai': 'lily', 'charan': 'put'}\n"
          ]
        }
      ]
    },
    {
      "cell_type": "code",
      "source": [
        "#pop to remove the specified position in the dictionaries\n",
        "x = {\n",
        "    \"sai\": \"lily\",\n",
        "    \"charan\": \"put\",\n",
        "    \"year\": 2021\n",
        "     }\n",
        "x.pop(\"charan\")\n",
        "print(x)"
      ],
      "metadata": {
        "colab": {
          "base_uri": "https://localhost:8080/"
        },
        "id": "wy5GHO9DLQg-",
        "outputId": "1b2481bc-c697-4796-c6c8-5d3ff664d72b"
      },
      "execution_count": 17,
      "outputs": [
        {
          "output_type": "stream",
          "name": "stdout",
          "text": [
            "{'sai': 'lily', 'year': 2021}\n"
          ]
        }
      ]
    },
    {
      "cell_type": "code",
      "source": [
        "#loops in dictionaries\n",
        "sai= {\n",
        "    \"sai\": \"lily\",\n",
        "    \"charan\": \"put\", #to print the key named\n",
        "    \"year\": 2021\n",
        "     }\n",
        "for x in sai:     \n",
        "   print(x)"
      ],
      "metadata": {
        "colab": {
          "base_uri": "https://localhost:8080/"
        },
        "id": "7nkC8lTOLU0f",
        "outputId": "d8210d53-167a-4647-c5d9-817c5216e190"
      },
      "execution_count": 18,
      "outputs": [
        {
          "output_type": "stream",
          "name": "stdout",
          "text": [
            "sai\n",
            "charan\n",
            "year\n"
          ]
        }
      ]
    },
    {
      "cell_type": "code",
      "source": [
        "##to print value in dictionaries\n",
        "sai= {\n",
        "    \"sreekar\": \"lily\",\n",
        "    \"charan\": \"put\",\n",
        "    \"year\": 2021           \n",
        "     }\n",
        "for x in sai:\n",
        "  print(sai[x])"
      ],
      "metadata": {
        "colab": {
          "base_uri": "https://localhost:8080/"
        },
        "id": "hlDZjmsILZVF",
        "outputId": "8370f2c3-bcb5-4bb3-a5e1-7c879b729642"
      },
      "execution_count": 19,
      "outputs": [
        {
          "output_type": "stream",
          "name": "stdout",
          "text": [
            "lily\n",
            "put\n",
            "2021\n"
          ]
        }
      ]
    },
    {
      "cell_type": "code",
      "source": [
        "sreekar= {\n",
        "    \"sai\": \"lily\",\n",
        "    \"charan\": \"put\",\n",
        "    \"year\": 2021\n",
        "    }\n",
        "for x in sreekar.values():\n",
        "  print(x)\n",
        "for x in sreekar.keys():\n",
        "  print(x) \n",
        "for x, y in sreekar.items():\n",
        "  print(x)"
      ],
      "metadata": {
        "colab": {
          "base_uri": "https://localhost:8080/"
        },
        "id": "2Hr8YcbJLpPb",
        "outputId": "f544816f-7a19-4197-f75a-473fa0ec18ce"
      },
      "execution_count": 22,
      "outputs": [
        {
          "output_type": "stream",
          "name": "stdout",
          "text": [
            "lily\n",
            "put\n",
            "2021\n",
            "sai\n",
            "charan\n",
            "year\n",
            "sai\n",
            "charan\n",
            "year\n"
          ]
        }
      ]
    },
    {
      "cell_type": "code",
      "source": [
        "thisdict= {\n",
        "    \"sai\": \"lily\",\n",
        "    \"charan\": \"put\",\n",
        "    \"year\": 2021\n",
        "    }\n",
        "print(thisdict)"
      ],
      "metadata": {
        "colab": {
          "base_uri": "https://localhost:8080/"
        },
        "id": "UbFn14N3L88O",
        "outputId": "a43384a0-4abd-4771-8846-c577040af86d"
      },
      "execution_count": 44,
      "outputs": [
        {
          "output_type": "stream",
          "name": "stdout",
          "text": [
            "{'sai': 'lily', 'charan': 'put', 'year': 2021}\n"
          ]
        }
      ]
    },
    {
      "cell_type": "code",
      "source": [
        "childchran = {\n",
        "  \"name\" : \"liliput\",\n",
        "  \"year\" : 2022\n",
        "}\n",
        "childkaushik = {\n",
        "  \"name\" : \"lucky\",\n",
        "  \"year\" : 2023\n",
        "}\n",
        "childsaketh = {\n",
        "  \"name\" : \"jennie\",\n",
        "  \"year\" : 2024\n",
        "}\n",
        "\n",
        "myfamily = {\n",
        "  \"childchran\" : childchran,\n",
        "  \"childkaushik\" :childkaushik ,\n",
        "  \"childsaketh\" : childsaketh\n",
        "}"
      ],
      "metadata": {
        "id": "4pRGF4rEOpta"
      },
      "execution_count": 45,
      "outputs": []
    },
    {
      "cell_type": "code",
      "source": [
        "childchran = {\n",
        "  \"name\" : \"liliput\",\n",
        "  \"year\" : 2022\n",
        "}\n",
        "childkaushik = {\n",
        "  \"name\" : \"lucky\",\n",
        "  \"year\" : 2023\n",
        "}\n",
        "childsaketh = {\n",
        "  \"name\" : \"jennie\",\n",
        "  \"year\" : 2024\n",
        "}\n",
        "singlepavan={\n",
        "    \"name\":\"pavan\",\n",
        "    \"year\" : 2004\n",
        "}\n"
      ],
      "metadata": {
        "id": "5tb1UuPQO2tW"
      },
      "execution_count": 46,
      "outputs": []
    }
  ]
}