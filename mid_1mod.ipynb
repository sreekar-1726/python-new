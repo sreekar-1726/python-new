{
  "nbformat": 4,
  "nbformat_minor": 0,
  "metadata": {
    "colab": {
      "name": "mid-1mod",
      "provenance": [],
      "authorship_tag": "ABX9TyO1YUhFwFL0PJZrwA3/Z3rb",
      "include_colab_link": true
    },
    "kernelspec": {
      "name": "python3",
      "display_name": "Python 3"
    },
    "language_info": {
      "name": "python"
    }
  },
  "cells": [
    {
      "cell_type": "markdown",
      "metadata": {
        "id": "view-in-github",
        "colab_type": "text"
      },
      "source": [
        "<a href=\"https://colab.research.google.com/github/sreekar-1726/python-new/blob/module1/mid_1mod.ipynb\" target=\"_parent\"><img src=\"https://colab.research.google.com/assets/colab-badge.svg\" alt=\"Open In Colab\"/></a>"
      ]
    },
    {
      "cell_type": "code",
      "execution_count": 1,
      "metadata": {
        "colab": {
          "base_uri": "https://localhost:8080/"
        },
        "id": "PDqrw4MkAsZ5",
        "outputId": "d767029b-3d6b-4a87-f08c-0e536000c5f4"
      },
      "outputs": [
        {
          "output_type": "stream",
          "name": "stdout",
          "text": [
            "2\n",
            "3\n",
            "8\n"
          ]
        }
      ],
      "source": [
        "#write a program to find power of number with recurssion and without recurssion\n",
        "#n=2,p=3\n",
        "#without recurssion\n",
        "import math\n",
        "n=int(input())\n",
        "p=int(input())\n",
        "k=print(pow(n,p))"
      ]
    },
    {
      "cell_type": "code",
      "source": [
        "#with recurssion\n",
        "import math\n",
        "def power():\n",
        "  if(n>0):\n",
        "    return pow(n,p)\n",
        "\n",
        "n=int(input())\n",
        "p=int(input())\n",
        "power()\n",
        "k=print(pow(n,p))"
      ],
      "metadata": {
        "colab": {
          "base_uri": "https://localhost:8080/"
        },
        "id": "8P6T6lNGBFOi",
        "outputId": "2274a79c-b4c2-42ff-f5a1-4ee1e44714ad"
      },
      "execution_count": 2,
      "outputs": [
        {
          "output_type": "stream",
          "name": "stdout",
          "text": [
            "5\n",
            "6\n",
            "15625\n"
          ]
        }
      ]
    },
    {
      "cell_type": "code",
      "source": [
        "#write a program to sort tuple by total digits \n",
        "#input a=[(3,4,6,723),(1,2),(134,234,34)]\n",
        "a=[(3,4,6,723),(1,2),(134,234,34)]\n",
        "b=str(a)\n",
        "print(b)"
      ],
      "metadata": {
        "colab": {
          "base_uri": "https://localhost:8080/"
        },
        "id": "HOTRmgKsBL6W",
        "outputId": "4e5c7e70-db5b-48d8-a3f7-1cacb5cd6d6b"
      },
      "execution_count": 3,
      "outputs": [
        {
          "output_type": "stream",
          "name": "stdout",
          "text": [
            "[(3, 4, 6, 723), (1, 2), (134, 234, 34)]\n"
          ]
        }
      ]
    },
    {
      "cell_type": "code",
      "source": [
        "#take 5 subject marks from user and diplay the grade of the student \n",
        "#con:if average is 90-100 o grade80-89 a+70-79 a60-69 b+<40 fail\n",
        "s1=int(input())\n",
        "s2=int(input())\n",
        "s3=int(input())\n",
        "s4=int(input())\n",
        "s5=int(input())\n",
        "avg=(s1+s2+s3+s4+s5)/5\n",
        "if avg>=90:\n",
        "  print(\"O grade\")\n",
        "elif avg>=80:\n",
        "  print(\"A+ grade\")\n",
        "elif avg>=70:\n",
        "  print(\"A grade\")\n",
        "elif avg>=60:\n",
        "  print(\"B+ grade\")\n",
        "elif avg>=50:\n",
        "  print(\"B grade\")\n",
        "elif avg>=40:\n",
        "  print(\"C grade\")\n",
        "else:\n",
        "  print(\"Fail8\")"
      ],
      "metadata": {
        "colab": {
          "base_uri": "https://localhost:8080/"
        },
        "id": "vtTAvk36BY3y",
        "outputId": "cb9b97f1-ef9b-4566-f453-62e96bd631f7"
      },
      "execution_count": 4,
      "outputs": [
        {
          "output_type": "stream",
          "name": "stdout",
          "text": [
            "91\n",
            "93\n",
            "94\n",
            "95\n",
            "98\n",
            "O grade\n"
          ]
        }
      ]
    },
    {
      "cell_type": "code",
      "source": [
        "#write a python program that prints 1 if all the three given numbers are ascending order if not print 0\n",
        "a=int(input())\n",
        "b=int(input())\n",
        "c=int(input())\n",
        "d=[a,b,c]\n",
        "e=d\n",
        "d.sort()\n",
        "if d==e:\n",
        "  print(\"1\")\n",
        "else:\n",
        "  print(\"0\")"
      ],
      "metadata": {
        "colab": {
          "base_uri": "https://localhost:8080/"
        },
        "id": "fqDwsNqxB7r7",
        "outputId": "968e1103-c6f9-4018-cbc1-09b6b5daec79"
      },
      "execution_count": 5,
      "outputs": [
        {
          "output_type": "stream",
          "name": "stdout",
          "text": [
            "22\n",
            "24\n",
            "25\n",
            "1\n"
          ]
        }
      ]
    },
    {
      "cell_type": "code",
      "source": [
        "#check the given number is perfect number or not\n",
        "a=int(input())\n",
        "b=a\n",
        "c=0\n",
        "for i in range(1,a):\n",
        "  if a%i==0:\n",
        "    c+=i\n",
        "if c==b:\n",
        "  print(\"perfect number\")\n",
        "else:\n",
        "  print(\"not perfect number\")"
      ],
      "metadata": {
        "colab": {
          "base_uri": "https://localhost:8080/"
        },
        "id": "Uv_LDphBCaqM",
        "outputId": "e0c79678-86e0-4762-c8d7-c7bf7ee485c4"
      },
      "execution_count": 6,
      "outputs": [
        {
          "output_type": "stream",
          "name": "stdout",
          "text": [
            "6\n",
            "perfect number\n"
          ]
        }
      ]
    },
    {
      "cell_type": "code",
      "source": [
        "#check the given string is palindrome or not \n",
        "s=input()\n",
        "a = \"\"\n",
        "for i in s:\n",
        "  a = i + a\n",
        "if a==s:\n",
        "  print(\"palindrome\")\n",
        "else:\n",
        "  print(\"Not palindrome\")"
      ],
      "metadata": {
        "colab": {
          "base_uri": "https://localhost:8080/"
        },
        "id": "nJAR9zp9CoGH",
        "outputId": "28cb8de2-2c98-4e98-bb66-dac239f6509a"
      },
      "execution_count": 7,
      "outputs": [
        {
          "output_type": "stream",
          "name": "stdout",
          "text": [
            "121\n",
            "palindrome\n"
          ]
        }
      ]
    },
    {
      "cell_type": "code",
      "source": [
        "#find the gcd of given numbers with and without recurssion\n",
        "\n",
        "a=int(input(\"enter a number\"))\n",
        "b=int(input(\"enter another number\"))\n",
        "k=a if (a<b) else b\n",
        "while True:\n",
        "  if(a%k==0 and b%k==0):\n",
        "    break\n",
        "  k-=1\n",
        "print(k)"
      ],
      "metadata": {
        "colab": {
          "base_uri": "https://localhost:8080/"
        },
        "id": "rJJ67ymTCuCg",
        "outputId": "7954a799-b5f7-4421-c301-b5604dd9d4f8"
      },
      "execution_count": 8,
      "outputs": [
        {
          "output_type": "stream",
          "name": "stdout",
          "text": [
            "enter a number2\n",
            "enter another number4\n",
            "2\n"
          ]
        }
      ]
    },
    {
      "cell_type": "code",
      "source": [
        "#print sum of even digits in a given number\n",
        "a=int(input())\n",
        "s=0\n",
        "while a>0:\n",
        "  d=a%10\n",
        "  if d%2==0:\n",
        "    s=s+d\n",
        "  a=a//10\n",
        "print(s)"
      ],
      "metadata": {
        "colab": {
          "base_uri": "https://localhost:8080/"
        },
        "id": "O9shzUWlC6W5",
        "outputId": "e73d1354-6c7e-4c88-b6b0-0437c81061a1"
      },
      "execution_count": 10,
      "outputs": [
        {
          "output_type": "stream",
          "name": "stdout",
          "text": [
            "23456\n",
            "12\n"
          ]
        }
      ]
    },
    {
      "cell_type": "code",
      "source": [
        "#write a program to calculate sum of squares of digits of a number given by user123 1^2+2^2+3^3=14\n",
        "a=int(input())\n",
        "s=0\n",
        "while a>0:\n",
        "  d=a%10\n",
        "  s=s+d*d\n",
        "  a=a//10\n",
        "print(s)"
      ],
      "metadata": {
        "colab": {
          "base_uri": "https://localhost:8080/"
        },
        "id": "PF2M2_EKDFFP",
        "outputId": "35ff6174-1ef0-4bb7-a56a-53ed72067982"
      },
      "execution_count": 11,
      "outputs": [
        {
          "output_type": "stream",
          "name": "stdout",
          "text": [
            "1233\n",
            "23\n"
          ]
        }
      ]
    },
    {
      "cell_type": "code",
      "source": [
        "#given a string is s=\"abcdefcba\"how many times ith output is 3\n",
        "#print count front back matches\n",
        "a=input()\n",
        "c=0\n",
        "for i in range(len(a)//2):\n",
        "  d=i+1\n",
        "  if a[i]==a[-d]:\n",
        "    c+=1\n",
        "print(c)"
      ],
      "metadata": {
        "colab": {
          "base_uri": "https://localhost:8080/"
        },
        "id": "9ANxE3FUDLpd",
        "outputId": "b5073519-d18c-4fb9-8f1c-cf45efdde8f8"
      },
      "execution_count": 13,
      "outputs": [
        {
          "output_type": "stream",
          "name": "stdout",
          "text": [
            "443\n",
            "0\n"
          ]
        }
      ]
    },
    {
      "cell_type": "code",
      "source": [
        "#given an integer n ,return a list containing 11223334444 and finally n repeated n times (n>0)\n",
        "#print(repeatnumber(4))\n",
        "a=int(input())\n",
        "b=[]\n",
        "for i in range(1,a+1):\n",
        "  for j in range(i):\n",
        "    b.append(i)\n",
        "print(b)"
      ],
      "metadata": {
        "colab": {
          "base_uri": "https://localhost:8080/"
        },
        "id": "FbcZZqkuDbv2",
        "outputId": "f6ce6ee8-9bb9-432c-e6c9-055d437f4546"
      },
      "execution_count": 14,
      "outputs": [
        {
          "output_type": "stream",
          "name": "stdout",
          "text": [
            "23\n",
            "[1, 2, 2, 3, 3, 3, 4, 4, 4, 4, 5, 5, 5, 5, 5, 6, 6, 6, 6, 6, 6, 7, 7, 7, 7, 7, 7, 7, 8, 8, 8, 8, 8, 8, 8, 8, 9, 9, 9, 9, 9, 9, 9, 9, 9, 10, 10, 10, 10, 10, 10, 10, 10, 10, 10, 11, 11, 11, 11, 11, 11, 11, 11, 11, 11, 11, 12, 12, 12, 12, 12, 12, 12, 12, 12, 12, 12, 12, 13, 13, 13, 13, 13, 13, 13, 13, 13, 13, 13, 13, 13, 14, 14, 14, 14, 14, 14, 14, 14, 14, 14, 14, 14, 14, 14, 15, 15, 15, 15, 15, 15, 15, 15, 15, 15, 15, 15, 15, 15, 15, 16, 16, 16, 16, 16, 16, 16, 16, 16, 16, 16, 16, 16, 16, 16, 16, 17, 17, 17, 17, 17, 17, 17, 17, 17, 17, 17, 17, 17, 17, 17, 17, 17, 18, 18, 18, 18, 18, 18, 18, 18, 18, 18, 18, 18, 18, 18, 18, 18, 18, 18, 19, 19, 19, 19, 19, 19, 19, 19, 19, 19, 19, 19, 19, 19, 19, 19, 19, 19, 19, 20, 20, 20, 20, 20, 20, 20, 20, 20, 20, 20, 20, 20, 20, 20, 20, 20, 20, 20, 20, 21, 21, 21, 21, 21, 21, 21, 21, 21, 21, 21, 21, 21, 21, 21, 21, 21, 21, 21, 21, 21, 22, 22, 22, 22, 22, 22, 22, 22, 22, 22, 22, 22, 22, 22, 22, 22, 22, 22, 22, 22, 22, 22, 23, 23, 23, 23, 23, 23, 23, 23, 23, 23, 23, 23, 23, 23, 23, 23, 23, 23, 23, 23, 23, 23, 23]\n"
          ]
        }
      ]
    },
    {
      "cell_type": "code",
      "source": [
        "#print number of vowels and consonants in a string\n",
        "a=input()\n",
        "v=0\n",
        "c=0\n",
        "for i in range(len(a)):\n",
        "  if a[i]=='a' or a[i]=='e' or a[i]=='i' or a[i]=='o' or a[i]=='u':\n",
        "    v+=1\n",
        "  else:\n",
        "    c+=1\n",
        "print(\"vowels=\",v)\n",
        "print('consonants=',c)"
      ],
      "metadata": {
        "colab": {
          "base_uri": "https://localhost:8080/"
        },
        "id": "OGKZ2H_KDi4W",
        "outputId": "024dcec5-0c75-4a19-a706-6040aaabbdcc"
      },
      "execution_count": 15,
      "outputs": [
        {
          "output_type": "stream",
          "name": "stdout",
          "text": [
            "22\n",
            "vowels= 0\n",
            "consonants= 2\n"
          ]
        }
      ]
    },
    {
      "cell_type": "code",
      "source": [
        "#given two integers a and b if a is less than b,print all numbers between ascending order if a is greater than b print all numbers in descending order\n",
        "#12 ,15 and -12,-15\n",
        "a=int(input())\n",
        "b=int(input())\n",
        "if a>b:\n",
        "  while a>=b:\n",
        "    print(a,end=\" \")\n",
        "    a-=1\n",
        "else:\n",
        "  for i in range(a,b+1):\n",
        "    print(i,end=\" \")"
      ],
      "metadata": {
        "colab": {
          "base_uri": "https://localhost:8080/"
        },
        "id": "df0Z3y5YDsM9",
        "outputId": "eb0d235f-cfba-45bf-b813-0fb212807b32"
      },
      "execution_count": 16,
      "outputs": [
        {
          "output_type": "stream",
          "name": "stdout",
          "text": [
            "12\n",
            "15\n",
            "12 13 14 15 "
          ]
        }
      ]
    },
    {
      "cell_type": "code",
      "source": [
        "#given a list of city names print the city names whose length is greater than the given length\n",
        "a=['verma','srikar','pranay','tharun','krishna','pradeep']\n",
        "b=int(input())\n",
        "c=[]\n",
        "for i in a:\n",
        "  if len(i)>=b:\n",
        "    c.append(i)\n",
        "print(c)"
      ],
      "metadata": {
        "colab": {
          "base_uri": "https://localhost:8080/"
        },
        "id": "p1uDA788Dx4G",
        "outputId": "7d943345-ecb7-43ba-9168-08fa4c093a2d"
      },
      "execution_count": 18,
      "outputs": [
        {
          "output_type": "stream",
          "name": "stdout",
          "text": [
            "5\n",
            "['verma', 'srikar', 'pranay', 'tharun', 'krishna', 'pradeep']\n"
          ]
        }
      ]
    }
  ]
}