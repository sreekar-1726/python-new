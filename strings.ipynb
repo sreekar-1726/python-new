{
  "nbformat": 4,
  "nbformat_minor": 0,
  "metadata": {
    "colab": {
      "name": "strings",
      "provenance": [],
      "authorship_tag": "ABX9TyM3PrZrU4jzKOewwuqVrJOc",
      "include_colab_link": true
    },
    "kernelspec": {
      "name": "python3",
      "display_name": "Python 3"
    },
    "language_info": {
      "name": "python"
    }
  },
  "cells": [
    {
      "cell_type": "markdown",
      "metadata": {
        "id": "view-in-github",
        "colab_type": "text"
      },
      "source": [
        "<a href=\"https://colab.research.google.com/github/sreekar-1726/python-new/blob/module2/strings.ipynb\" target=\"_parent\"><img src=\"https://colab.research.google.com/assets/colab-badge.svg\" alt=\"Open In Colab\"/></a>"
      ]
    },
    {
      "cell_type": "code",
      "execution_count": 1,
      "metadata": {
        "colab": {
          "base_uri": "https://localhost:8080/"
        },
        "id": "3TYOKSsgBxWf",
        "outputId": "1fda4a27-b062-4810-b823-1cac5e7b7bdd"
      },
      "outputs": [
        {
          "output_type": "stream",
          "name": "stdout",
          "text": [
            "i'm sreekar started from DDS back hostel and reached mess at completed breakfast then my friend joined me and we reached to python class\n",
            "136\n",
            "136\n"
          ]
        }
      ],
      "source": [
        "x=\"i'm sreekar started from DDS back hostel and reached mess at completed breakfast then my friend joined me and we reached to python class\"\n",
        "print(x)\n",
        "y=len(x) # assigning a variable and printing the length\n",
        "print(y)\n",
        "print(len(x)) #direct finding the length"
      ]
    },
    {
      "cell_type": "code",
      "source": [
        "#to find out the existing word in the given sentence\n",
        "#check string\n",
        "x=\"sreekar\"\n",
        "print(\"sreekar\" in x)\n",
        "print(\"xyz\" in x)"
      ],
      "metadata": {
        "colab": {
          "base_uri": "https://localhost:8080/"
        },
        "id": "tBa7f-ZKCG30",
        "outputId": "7a86428d-ad76-460e-80ea-946e83fe7de1"
      },
      "execution_count": 2,
      "outputs": [
        {
          "output_type": "stream",
          "name": "stdout",
          "text": [
            "True\n",
            "False\n"
          ]
        }
      ]
    },
    {
      "cell_type": "code",
      "source": [
        "#if not\n",
        "x=\"i is an independent class person\"\n",
        "print(\"class\" not in x)\n",
        "print(\"pavant\" not in x)"
      ],
      "metadata": {
        "colab": {
          "base_uri": "https://localhost:8080/"
        },
        "id": "Bbuq_V9QCO8V",
        "outputId": "4288839a-f5ad-437d-e89f-3d014feae3ec"
      },
      "execution_count": 3,
      "outputs": [
        {
          "output_type": "stream",
          "name": "stdout",
          "text": [
            "False\n",
            "True\n"
          ]
        }
      ]
    },
    {
      "cell_type": "code",
      "source": [
        "#using if statement\n",
        "y=\"is an idiot fellow\"\n",
        "if \"idit\" not in y:\n",
        "  print(\"no'idiot' , not in set\")"
      ],
      "metadata": {
        "colab": {
          "base_uri": "https://localhost:8080/"
        },
        "id": "t3H_qDoHCVsX",
        "outputId": "4a539f3b-416d-4d96-c3f9-afce9c298c98"
      },
      "execution_count": 4,
      "outputs": [
        {
          "output_type": "stream",
          "name": "stdout",
          "text": [
            "no'idiot' , not in set\n"
          ]
        }
      ]
    },
    {
      "cell_type": "code",
      "source": [
        "#slicing\n",
        "x=\"im in python class \"\n",
        "print(x[2:5])\n",
        "print(x[2:5],x[6:7])\n",
        "print(x[:-5])\n",
        "print(x[5:])\n",
        "print(x[-10:-5])"
      ],
      "metadata": {
        "colab": {
          "base_uri": "https://localhost:8080/"
        },
        "id": "QdzTnpk4CYdm",
        "outputId": "12a4d135-4188-4b1e-8953-efddbb77b541"
      },
      "execution_count": 5,
      "outputs": [
        {
          "output_type": "stream",
          "name": "stdout",
          "text": [
            " in\n",
            " in p\n",
            "im in python c\n",
            " python class \n",
            "hon c\n"
          ]
        }
      ]
    },
    {
      "cell_type": "code",
      "source": [
        "#modifying the string\n",
        "p=\"SREEKAR IS IN CAMPUS\"\n",
        "print(p.upper())\n",
        "print(p.lower())\n",
        "print(p.upper())"
      ],
      "metadata": {
        "colab": {
          "base_uri": "https://localhost:8080/"
        },
        "id": "EgopAlz5Cgnd",
        "outputId": "e6cee516-f61f-4a54-d8a1-a32d9c5a64cf"
      },
      "execution_count": 6,
      "outputs": [
        {
          "output_type": "stream",
          "name": "stdout",
          "text": [
            "SREEKAR IS IN CAMPUS\n",
            "sreekar is in campus\n",
            "SREEKAR IS IN CAMPUS\n"
          ]
        }
      ]
    },
    {
      "cell_type": "code",
      "source": [
        "#removing white spaces in a string\n",
        "x=\"                 sreekar is    sleeping          \"\n",
        "print(x.strip())       # removes only the white spaces at end and beginning of a string"
      ],
      "metadata": {
        "colab": {
          "base_uri": "https://localhost:8080/"
        },
        "id": "JZvr266OCpbX",
        "outputId": "4244e416-dafb-48db-aa24-ec090cb39ab7"
      },
      "execution_count": 7,
      "outputs": [
        {
          "output_type": "stream",
          "name": "stdout",
          "text": [
            "sreekar is    sleeping\n"
          ]
        }
      ]
    },
    {
      "cell_type": "code",
      "source": [
        "a = \"Hello, World!\"\n",
        "print(a.split(\",\")) # returns ['Hello', ' World!']"
      ],
      "metadata": {
        "colab": {
          "base_uri": "https://localhost:8080/"
        },
        "id": "mUW5v2-sC3zV",
        "outputId": "f120c7e6-c096-45b1-8e5a-e8a3f978bab1"
      },
      "execution_count": 8,
      "outputs": [
        {
          "output_type": "stream",
          "name": "stdout",
          "text": [
            "['Hello', ' World!']\n"
          ]
        }
      ]
    },
    {
      "cell_type": "code",
      "source": [
        "#string concotaination\n",
        "a=\"sreekar\"\n",
        "b=\"yasaswi\"\n",
        "c=b+a\n",
        "print(c)\n",
        "#to add space in between\n",
        "d=b+\" \"+a\n",
        "print(d)"
      ],
      "metadata": {
        "colab": {
          "base_uri": "https://localhost:8080/"
        },
        "id": "xL26hUzeC7Oq",
        "outputId": "331b1877-22ee-4a2e-9d3e-9d0ecb39a3af"
      },
      "execution_count": 9,
      "outputs": [
        {
          "output_type": "stream",
          "name": "stdout",
          "text": [
            "yasaswisreekar\n",
            "yasaswi sreekar\n"
          ]
        }
      ]
    },
    {
      "cell_type": "code",
      "source": [
        "sreekar=10\n",
        "x=\"he has {} chocalates.\"\n",
        "print(x.format(pavan))\n",
        "z=100\n",
        "f=10\n",
        "\n",
        "y=\"he has{} and gave to pav{} and {}  to her\"\n",
        "print(y.format(pavan,z,f))"
      ],
      "metadata": {
        "colab": {
          "base_uri": "https://localhost:8080/"
        },
        "id": "9JrWF3skDAyu",
        "outputId": "4c3b81bd-7a08-4bf4-9f7f-e9b82f608332"
      },
      "execution_count": 15,
      "outputs": [
        {
          "output_type": "stream",
          "name": "stdout",
          "text": [
            "he has 10 chocalates.\n",
            "he has10 and gave to pav100 and 10  to her\n"
          ]
        }
      ]
    }
  ]
}