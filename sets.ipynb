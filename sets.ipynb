{
  "nbformat": 4,
  "nbformat_minor": 0,
  "metadata": {
    "colab": {
      "name": "sets",
      "provenance": [],
      "authorship_tag": "ABX9TyMiDoI2TMzy+eIDxb+wCGJu",
      "include_colab_link": true
    },
    "kernelspec": {
      "name": "python3",
      "display_name": "Python 3"
    },
    "language_info": {
      "name": "python"
    }
  },
  "cells": [
    {
      "cell_type": "markdown",
      "metadata": {
        "id": "view-in-github",
        "colab_type": "text"
      },
      "source": [
        "<a href=\"https://colab.research.google.com/github/sreekar-1726/python-new/blob/module2/sets.ipynb\" target=\"_parent\"><img src=\"https://colab.research.google.com/assets/colab-badge.svg\" alt=\"Open In Colab\"/></a>"
      ]
    },
    {
      "cell_type": "code",
      "execution_count": 1,
      "metadata": {
        "colab": {
          "base_uri": "https://localhost:8080/"
        },
        "id": "Tr-LmFJtQXom",
        "outputId": "3533c72e-45d0-4b0a-83c0-ea8dfeb2cc5a"
      },
      "outputs": [
        {
          "output_type": "stream",
          "name": "stdout",
          "text": [
            "b\n",
            "b\n",
            "b\n"
          ]
        }
      ],
      "source": [
        "a=(\"b\",\"c\",\"d\",\"e\",\"b\",\"b\",\"b\")\n",
        "y=list(a)\n",
        "for i in y:\n",
        "  if i=='b': \n",
        "\n",
        "     \n",
        "    y.remove(i)\n",
        "    print(i)"
      ]
    },
    {
      "cell_type": "code",
      "source": [
        "#sets\n",
        "set={\"p\",\"a\",\"v\",\"n\"}\n",
        "print(set)          "
      ],
      "metadata": {
        "colab": {
          "base_uri": "https://localhost:8080/"
        },
        "id": "_N42RUi3Qnyl",
        "outputId": "f37c4ae1-e80c-4d4b-eb5f-9f29537e4bbe"
      },
      "execution_count": 2,
      "outputs": [
        {
          "output_type": "stream",
          "name": "stdout",
          "text": [
            "{'a', 'n', 'v', 'p'}\n"
          ]
        }
      ]
    },
    {
      "cell_type": "code",
      "source": [
        "#duplicates values are ignored\n",
        "set={\"p\",\"a\",\"v\",\"a\",\"n\"}\n",
        "print(set)"
      ],
      "metadata": {
        "colab": {
          "base_uri": "https://localhost:8080/"
        },
        "id": "AonxZdKtQpJx",
        "outputId": "26903d62-ec1c-436d-f173-a37fcb9e9cfd"
      },
      "execution_count": 3,
      "outputs": [
        {
          "output_type": "stream",
          "name": "stdout",
          "text": [
            "{'a', 'n', 'v', 'p'}\n"
          ]
        }
      ]
    },
    {
      "cell_type": "code",
      "source": [
        "#dupliclicates are ignored and counted\n",
        "#to find the length of the sets\n",
        "set={\"p\",\"a\",\"v\",\"a\",\"n\"}\n",
        "print(len(set))           "
      ],
      "metadata": {
        "colab": {
          "base_uri": "https://localhost:8080/"
        },
        "id": "jkV0JKRwQtnP",
        "outputId": "c1b4853e-ff16-4fd3-a5ee-e0d14fbf3887"
      },
      "execution_count": 4,
      "outputs": [
        {
          "output_type": "stream",
          "name": "stdout",
          "text": [
            "4\n"
          ]
        }
      ]
    },
    {
      "cell_type": "code",
      "source": [
        " #set can contain different data types\n",
        " s = {\"a\", 34, True, 40, \"pm\"}\n",
        "print(s)     "
      ],
      "metadata": {
        "colab": {
          "base_uri": "https://localhost:8080/"
        },
        "id": "hLUI_TM3Q21K",
        "outputId": "351586d6-1f55-487b-80ba-e435a884bbb1"
      },
      "execution_count": 5,
      "outputs": [
        {
          "output_type": "stream",
          "name": "stdout",
          "text": [
            "{True, 34, 40, 'pm', 'a'}\n"
          ]
        }
      ]
    },
    {
      "cell_type": "code",
      "source": [
        "#to find the data type of set\n",
        "set={\"p\",\"a\",\"v\",\"a\",\"n\"}\n",
        "print(type(set))                 \n",
        "p={\"a\",1,True,\"n\"}\n",
        "print(type(p))"
      ],
      "metadata": {
        "colab": {
          "base_uri": "https://localhost:8080/"
        },
        "id": "Raa8MfQ4Q-jW",
        "outputId": "0fe33ec6-9c8e-4338-db3c-3a07d1791b40"
      },
      "execution_count": 6,
      "outputs": [
        {
          "output_type": "stream",
          "name": "stdout",
          "text": [
            "<class 'set'>\n",
            "<class 'set'>\n"
          ]
        }
      ]
    },
    {
      "cell_type": "code",
      "source": [
        "#to acesss the item in sets\n",
        "set={\"p\",\"a\",\"v\",\"a\",\"n\"}\n",
        "for x in set:\n",
        "  print(x)"
      ],
      "metadata": {
        "colab": {
          "base_uri": "https://localhost:8080/"
        },
        "id": "9AoE-SEJROhr",
        "outputId": "f483bb75-8247-4e8e-b861-5dd537d23820"
      },
      "execution_count": 7,
      "outputs": [
        {
          "output_type": "stream",
          "name": "stdout",
          "text": [
            "a\n",
            "n\n",
            "v\n",
            "p\n"
          ]
        }
      ]
    },
    {
      "cell_type": "code",
      "source": [
        "set={\"p\",\"a\",\"v\",\"a\",\"n\"}\n",
        "print(\"p\" in set)\n",
        "print(\"s\" in set)"
      ],
      "metadata": {
        "colab": {
          "base_uri": "https://localhost:8080/"
        },
        "id": "yyA4Xth1RQgQ",
        "outputId": "614d0a07-7ae8-448b-c412-b0a17711d4f5"
      },
      "execution_count": 8,
      "outputs": [
        {
          "output_type": "stream",
          "name": "stdout",
          "text": [
            "True\n",
            "False\n"
          ]
        }
      ]
    },
    {
      "cell_type": "code",
      "source": [
        "#adding the items to set\n",
        "set={\"p\",\"a\",\"v\",\"a\",\"n\"}\n",
        "set.add(\"liliput\")\n",
        "print(set)"
      ],
      "metadata": {
        "colab": {
          "base_uri": "https://localhost:8080/"
        },
        "id": "zi78WW6ORW1B",
        "outputId": "2fafc6a5-1772-4527-d11d-b6b13619776b"
      },
      "execution_count": 9,
      "outputs": [
        {
          "output_type": "stream",
          "name": "stdout",
          "text": [
            "{'liliput', 'v', 'n', 'a', 'p'}\n"
          ]
        }
      ]
    },
    {
      "cell_type": "code",
      "source": [
        "#adding of different types\n",
        "set={\"p\",\"a\",\"v\",\"a\",\"n\"}\n",
        "s={\"d\",\"lily\",\"ellur\",\"guntur\"}\n",
        "set.update(s)\n",
        "print(set)"
      ],
      "metadata": {
        "colab": {
          "base_uri": "https://localhost:8080/"
        },
        "id": "RScFsH9SRZsf",
        "outputId": "4a98ff90-fe6c-4950-8bec-8f5dba4e3024"
      },
      "execution_count": 10,
      "outputs": [
        {
          "output_type": "stream",
          "name": "stdout",
          "text": [
            "{'guntur', 'v', 'd', 'n', 'lily', 'ellur', 'a', 'p'}\n"
          ]
        }
      ]
    },
    {
      "cell_type": "code",
      "source": [
        "#we can add the list to set\n",
        "#adding list \n",
        "set={\"p\",\"a\",\"v\",\"a\",\"n\"}         \n",
        "s=[\"d\",\"lily\",\"ellur\",\"guntur\"]\n",
        "set.update(s)\n",
        "print(set)"
      ],
      "metadata": {
        "colab": {
          "base_uri": "https://localhost:8080/"
        },
        "id": "d100CH6GRd1L",
        "outputId": "f7b51edd-53b4-4372-8fba-133cd4115cc1"
      },
      "execution_count": 11,
      "outputs": [
        {
          "output_type": "stream",
          "name": "stdout",
          "text": [
            "{'guntur', 'v', 'd', 'n', 'lily', 'ellur', 'a', 'p'}\n"
          ]
        }
      ]
    },
    {
      "cell_type": "code",
      "source": [
        "#to remove the element in set\n",
        "set={\"p\",\"a\",\"v\",\"a\",\"n\"} \n",
        "set.remove(\"a\")    #usage of \"remove\" keyword\n",
        "print(set)"
      ],
      "metadata": {
        "colab": {
          "base_uri": "https://localhost:8080/"
        },
        "id": "rPG_qygORmhV",
        "outputId": "c9a0992b-7e74-4756-bb6a-3064ae15c938"
      },
      "execution_count": 12,
      "outputs": [
        {
          "output_type": "stream",
          "name": "stdout",
          "text": [
            "{'n', 'v', 'p'}\n"
          ]
        }
      ]
    },
    {
      "cell_type": "code",
      "source": [
        "#usage of discard\n",
        "set={\"p\",\"a\",\"v\",\"a\",\"n\"} \n",
        "set.discard(\"p\")\n",
        "print(set)"
      ],
      "metadata": {
        "colab": {
          "base_uri": "https://localhost:8080/"
        },
        "id": "eXk2hMZtRqf7",
        "outputId": "b89ffcaa-4641-49bd-93b5-40aa9c3dad05"
      },
      "execution_count": 13,
      "outputs": [
        {
          "output_type": "stream",
          "name": "stdout",
          "text": [
            "{'a', 'n', 'v'}\n"
          ]
        }
      ]
    },
    {
      "cell_type": "code",
      "source": [
        "#pop\n",
        "set={\"p\",\"a\",\"v\",\"a\",\"n\"}  #removes the last item\n",
        "x=set.pop()\n",
        "print(x)\n",
        "print(set)"
      ],
      "metadata": {
        "colab": {
          "base_uri": "https://localhost:8080/"
        },
        "id": "ElZxfsdXRv2z",
        "outputId": "7242b42d-f74f-4982-ce3f-12805ad744d0"
      },
      "execution_count": 14,
      "outputs": [
        {
          "output_type": "stream",
          "name": "stdout",
          "text": [
            "a\n",
            "{'n', 'v', 'p'}\n"
          ]
        }
      ]
    },
    {
      "cell_type": "code",
      "source": [
        "#clear to empty the set\n",
        "set={\"p\",\"a\",\"v\",\"a\",\"n\"}  \n",
        "set.clear()\n",
        "print(set)"
      ],
      "metadata": {
        "colab": {
          "base_uri": "https://localhost:8080/"
        },
        "id": "9t3GSYxvR5ua",
        "outputId": "9e7a21cb-b05e-4443-f9c3-0ee4cd86d894"
      },
      "execution_count": 15,
      "outputs": [
        {
          "output_type": "stream",
          "name": "stdout",
          "text": [
            "set()\n"
          ]
        }
      ]
    },
    {
      "cell_type": "code",
      "source": [
        "#del to remove the set completely\n",
        "set={\"p\",\"a\",\"v\",\"a\",\"n\"}\n",
        "del set\n",
        "print(set)"
      ],
      "metadata": {
        "colab": {
          "base_uri": "https://localhost:8080/"
        },
        "id": "Dcycm7EMR_Wz",
        "outputId": "127477fb-9491-4688-fc67-4131a539a8ac"
      },
      "execution_count": 16,
      "outputs": [
        {
          "output_type": "stream",
          "name": "stdout",
          "text": [
            "<class 'set'>\n"
          ]
        }
      ]
    },
    {
      "cell_type": "code",
      "source": [
        "#loops\n",
        "set={\"p\",\"a\",\"v\",\"a\",\"n\"}\n",
        "for x in set:\n",
        "  print(x)"
      ],
      "metadata": {
        "colab": {
          "base_uri": "https://localhost:8080/"
        },
        "id": "fyhGYuJ-SBuK",
        "outputId": "e8719b5b-138e-4bc6-914c-2fe1601f4e2f"
      },
      "execution_count": 17,
      "outputs": [
        {
          "output_type": "stream",
          "name": "stdout",
          "text": [
            "a\n",
            "n\n",
            "v\n",
            "p\n"
          ]
        }
      ]
    },
    {
      "cell_type": "code",
      "source": [
        "#joining of two sets\n",
        "x={\"lily\",\"elluru\",\"dark\",\"jennie\",\"moon\"}\n",
        "y={\"charan\",\"kaushik\",\"laxman\",\"saketh\",\"pavan\"}\n",
        "z=x.union(y)\n",
        "print(z)"
      ],
      "metadata": {
        "colab": {
          "base_uri": "https://localhost:8080/"
        },
        "id": "dbRaHXgGSHWw",
        "outputId": "6ea8d36c-31c3-44ff-c48e-eb129fe6d594"
      },
      "execution_count": 18,
      "outputs": [
        {
          "output_type": "stream",
          "name": "stdout",
          "text": [
            "{'moon', 'charan', 'laxman', 'kaushik', 'jennie', 'saketh', 'pavan', 'lily', 'dark', 'elluru'}\n"
          ]
        }
      ]
    },
    {
      "cell_type": "code",
      "source": [
        "x={\"lily\",\"elluru\",\"dark\",\"jennie\",\"moon\"}\n",
        "y={\"charan\",\"kaushik\",\"laxman\",\"saketh\",\"pavan\"}\n",
        "x.update(y)\n",
        "print(x)"
      ],
      "metadata": {
        "colab": {
          "base_uri": "https://localhost:8080/"
        },
        "id": "l-6AE5-iSKGu",
        "outputId": "8607a6c6-0c71-4032-f8dc-bec709b2681b"
      },
      "execution_count": 19,
      "outputs": [
        {
          "output_type": "stream",
          "name": "stdout",
          "text": [
            "{'moon', 'charan', 'laxman', 'kaushik', 'jennie', 'saketh', 'pavan', 'lily', 'dark', 'elluru'}\n"
          ]
        }
      ]
    },
    {
      "cell_type": "code",
      "source": [
        "x={\"lily\",\"elluru\",\"dark\",\"jennie\",\"moon\"}\n",
        "y={\"lily\",\"kaushik\",\"laxman\",\"saketh\",\"moon\"}\n",
        "x.intersection_update(y)  #only the common values\n",
        "print(x)\n",
        "z=x.intersection(y)\n",
        "print(z)"
      ],
      "metadata": {
        "colab": {
          "base_uri": "https://localhost:8080/"
        },
        "id": "zOP1ZqC8SNw2",
        "outputId": "fa37b25f-9d48-444d-bdce-fadcea9324de"
      },
      "execution_count": 20,
      "outputs": [
        {
          "output_type": "stream",
          "name": "stdout",
          "text": [
            "{'moon', 'lily'}\n",
            "{'moon', 'lily'}\n"
          ]
        }
      ]
    },
    {
      "cell_type": "code",
      "source": [
        " #prints that are not common in both sets\n",
        "x={\"lily\",\"elluru\",\"dark\",\"jennie\",\"moon\"}\n",
        "y={\"lily\",\"kaushik\",\"laxman\",\"saketh\",\"moon\"}\n",
        "x.symmetric_difference_update(y)             \n",
        "print(x)\n",
        "z=x.symmetric_difference(y)\n",
        "print(z)"
      ],
      "metadata": {
        "colab": {
          "base_uri": "https://localhost:8080/"
        },
        "id": "cWgaqBpCSSUG",
        "outputId": "8ad4dc17-a328-4583-ba2a-e509b61ebd92"
      },
      "execution_count": 21,
      "outputs": [
        {
          "output_type": "stream",
          "name": "stdout",
          "text": [
            "{'laxman', 'kaushik', 'jennie', 'saketh', 'dark', 'elluru'}\n",
            "{'moon', 'lily', 'dark', 'elluru', 'jennie'}\n"
          ]
        }
      ]
    },
    {
      "cell_type": "code",
      "source": [
        ""
      ],
      "metadata": {
        "id": "UHeeJWdtSaia"
      },
      "execution_count": null,
      "outputs": []
    }
  ]
}