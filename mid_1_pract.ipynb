{
  "nbformat": 4,
  "nbformat_minor": 0,
  "metadata": {
    "colab": {
      "name": "mid-1 pract",
      "provenance": [],
      "authorship_tag": "ABX9TyMgDkZ52WMqvSBpcJWUMuxc",
      "include_colab_link": true
    },
    "kernelspec": {
      "name": "python3",
      "display_name": "Python 3"
    },
    "language_info": {
      "name": "python"
    }
  },
  "cells": [
    {
      "cell_type": "markdown",
      "metadata": {
        "id": "view-in-github",
        "colab_type": "text"
      },
      "source": [
        "<a href=\"https://colab.research.google.com/github/sreekar-1726/python-new/blob/module1/mid_1_pract.ipynb\" target=\"_parent\"><img src=\"https://colab.research.google.com/assets/colab-badge.svg\" alt=\"Open In Colab\"/></a>"
      ]
    },
    {
      "cell_type": "code",
      "execution_count": null,
      "metadata": {
        "colab": {
          "base_uri": "https://localhost:8080/"
        },
        "id": "IUJAuhwaEcm8",
        "outputId": "596c306a-775f-4ad0-bbb6-62c78b517cc5"
      },
      "outputs": [
        {
          "output_type": "stream",
          "name": "stdout",
          "text": [
            "22\n",
            "24\n",
            "23\n"
          ]
        }
      ],
      "source": [
        "#write a program to print prime numbers in given range by using function the range value is 25 to 50\n",
        "def prime(lower_value, upper_value): \n",
        " for number in range (lower_value, upper_value + 1):  \n",
        "    if number > 1:  \n",
        "        for i in range (2, number):  \n",
        "            if (number % i) == 0:  \n",
        "                break  \n",
        "        else:  \n",
        "            print (number)  \n",
        "lower_value = int(input (\"\"))  \n",
        "upper_value = int(input (\"\")) \n",
        "prime(lower_value, upper_value)"
      ]
    },
    {
      "cell_type": "code",
      "source": [
        "#write a program to read any month in integer and display days for that month 1,3,5,7,8,10,12\n",
        "a=int(input())\n",
        "if(a==1 or a==3 or a==5 or a==7 or a==8 or a==10 or a==12):\n",
        "  print(\"days are:\"\"31\")\n",
        "elif(a==4 or a==6 or a==9 or a==11 ):\n",
        "  print(\"days are:\"\"30\")\n",
        "elif(a==2):\n",
        "  print(\"days are :\"\"28 days\")\n",
        "else:\n",
        "  print(\"ther are no months\")"
      ],
      "metadata": {
        "colab": {
          "base_uri": "https://localhost:8080/"
        },
        "id": "Ad5QxlLyE4HL",
        "outputId": "023cb468-929f-4043-ce2d-d8e42c694d09"
      },
      "execution_count": null,
      "outputs": [
        {
          "output_type": "stream",
          "name": "stdout",
          "text": [
            "5\n",
            "days are:31\n"
          ]
        }
      ]
    },
    {
      "cell_type": "code",
      "source": [
        "#write a python program to print even length words in a string\n",
        "#input:hi how are you \n",
        "#output:hi\n",
        "s=\"this is python\"\n",
        "s=s.split(' ')\n",
        "for x in s:\n",
        "  if len(x)%2==0: \n",
        "     print(x,end=' ')"
      ],
      "metadata": {
        "colab": {
          "base_uri": "https://localhost:8080/"
        },
        "id": "uXHndmSPFB-B",
        "outputId": "1476159b-56e7-4eb7-ff47-a39ff8a0e80a"
      },
      "execution_count": null,
      "outputs": [
        {
          "output_type": "stream",
          "name": "stdout",
          "text": [
            "this is python "
          ]
        }
      ]
    },
    {
      "cell_type": "code",
      "source": [
        "#a)write a python program to captalize the first letter and last letter of each word\n",
        "a=str(input())\n",
        "b=a.split()\n",
        "c=''\n",
        "for i in b:\n",
        "  x=i.capitalize()\n",
        "  y=i[-1].capitalize()\n",
        "  z=x[0:-1]+y\n",
        "  print(z,end=\" \")"
      ],
      "metadata": {
        "id": "eYhXLX1AFH0U",
        "outputId": "ad7e1795-fead-4b81-c6e8-135ddca46320",
        "colab": {
          "base_uri": "https://localhost:8080/"
        }
      },
      "execution_count": 1,
      "outputs": [
        {
          "output_type": "stream",
          "name": "stdout",
          "text": [
            "sreekar\n",
            "SreekaR "
          ]
        }
      ]
    },
    {
      "cell_type": "code",
      "source": [
        "#b)write a program to read a string from user display first character of each word with capital\n",
        "  #input:the newcher sreekar\n",
        "  #output:The Newcher sreekar\n",
        "a=str(input())\n",
        "b=a.split()\n",
        "for i in b:\n",
        "  x=i.capitalize()\n",
        "  print(x)"
      ],
      "metadata": {
        "id": "wXmWDX_LFOVW",
        "colab": {
          "base_uri": "https://localhost:8080/"
        },
        "outputId": "bf0dcc6f-653a-4ff0-fe2b-92c1dc3c4163"
      },
      "execution_count": 2,
      "outputs": [
        {
          "output_type": "stream",
          "name": "stdout",
          "text": [
            "iam sreekar\n",
            "Iam\n",
            "Sreekar\n"
          ]
        }
      ]
    },
    {
      "cell_type": "code",
      "source": [
        "#write a python program to convert a list of multiple integers into a single integer\n",
        " #input:11,33,50\n",
        " #output:113350\n",
        "a=eval(input())\n",
        "b=\" \"\n",
        "for i in a:\n",
        " b+=str(i)\n",
        " print(b)"
      ],
      "metadata": {
        "id": "OOrw2HvBHRcv",
        "colab": {
          "base_uri": "https://localhost:8080/"
        },
        "outputId": "1e16d211-5813-416d-8935-090f404b4361"
      },
      "execution_count": 3,
      "outputs": [
        {
          "output_type": "stream",
          "name": "stdout",
          "text": [
            "11,33,50\n",
            " 11\n",
            " 1133\n",
            " 113350\n"
          ]
        }
      ]
    }
  ]
}