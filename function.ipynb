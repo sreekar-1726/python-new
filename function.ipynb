{
  "nbformat": 4,
  "nbformat_minor": 0,
  "metadata": {
    "colab": {
      "name": "function",
      "provenance": [],
      "authorship_tag": "ABX9TyPNbySaI/NfTvKimC3RrJws",
      "include_colab_link": true
    },
    "kernelspec": {
      "name": "python3",
      "display_name": "Python 3"
    },
    "language_info": {
      "name": "python"
    }
  },
  "cells": [
    {
      "cell_type": "markdown",
      "metadata": {
        "id": "view-in-github",
        "colab_type": "text"
      },
      "source": [
        "<a href=\"https://colab.research.google.com/github/sreekar-1726/python-new/blob/module2/function.ipynb\" target=\"_parent\"><img src=\"https://colab.research.google.com/assets/colab-badge.svg\" alt=\"Open In Colab\"/></a>"
      ]
    },
    {
      "cell_type": "code",
      "execution_count": 2,
      "metadata": {
        "colab": {
          "base_uri": "https://localhost:8080/"
        },
        "id": "aJoG94xlPaUj",
        "outputId": "a8647e05-a617-4176-fd07-c132652d8675"
      },
      "outputs": [
        {
          "output_type": "stream",
          "name": "stdout",
          "text": [
            "hello world\n",
            "hi\n",
            "what\n",
            "how are you\n"
          ]
        }
      ],
      "source": [
        "def sreekar():     #to call the function\n",
        "  print(\"hello world\")\n",
        "def hello():  \n",
        "  print(\"hi\")\n",
        "def what():  \n",
        "  print(\"what\")\n",
        "def how():  \n",
        "  print(\"how are you\")\n",
        "sreekar()            #calling a function `\n",
        "hello()\n",
        "what()\n",
        "how()"
      ]
    },
    {
      "cell_type": "code",
      "source": [
        "def put(ceo):\n",
        "  print(ceo+\" \"+\"of india\")\n",
        "put(\"mehabooba\")  #passing of arguments\n",
        "put(\"rocky\")\n",
        "put(\"reena\")"
      ],
      "metadata": {
        "colab": {
          "base_uri": "https://localhost:8080/"
        },
        "id": "VpZNxaSvPlsw",
        "outputId": "a723397b-0970-4a1f-d908-e5cc0a8c3271"
      },
      "execution_count": 3,
      "outputs": [
        {
          "output_type": "stream",
          "name": "stdout",
          "text": [
            "mehabooba of india\n",
            "rocky of india\n",
            "reena of india\n"
          ]
        }
      ]
    },
    {
      "cell_type": "code",
      "source": [
        "#name ,age, gender\n",
        "def voting(age,gender,name):\n",
        "    print(\"age=\",age +\"gender=\",gender +\"name=\",name)\n",
        "voting(\"81\",\"others\",\"kaushik\")\n",
        "voting(\"21\",\"female\",\"charan\")\n",
        "voting(\"18\",\"male\",\"pavan\")"
      ],
      "metadata": {
        "colab": {
          "base_uri": "https://localhost:8080/"
        },
        "id": "PEwGGKwBPqwQ",
        "outputId": "bfea02e3-5a5f-439c-fb00-3ee5daa115da"
      },
      "execution_count": 4,
      "outputs": [
        {
          "output_type": "stream",
          "name": "stdout",
          "text": [
            "age= 81gender= othersname= kaushik\n",
            "age= 21gender= femalename= charan\n",
            "age= 18gender= malename= pavan\n"
          ]
        }
      ]
    },
    {
      "cell_type": "code",
      "source": [
        "#python build in functions\n",
        "#absolute\n",
        "x=-25.03\n",
        "print(abs(x))\n",
        "complexnumber=2+5j\n",
        "print(abs(complexnumber))\n",
        "#"
      ],
      "metadata": {
        "colab": {
          "base_uri": "https://localhost:8080/"
        },
        "id": "yuhClSgNP22I",
        "outputId": "b8dcd333-e3e1-46c8-f386-5d0ed78cdac3"
      },
      "execution_count": 5,
      "outputs": [
        {
          "output_type": "stream",
          "name": "stdout",
          "text": [
            "25.03\n",
            "5.385164807134504\n"
          ]
        }
      ]
    }
  ]
}